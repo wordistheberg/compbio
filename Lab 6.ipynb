{
 "cells": [
  {
   "cell_type": "markdown",
   "metadata": {},
   "source": [
    "I will use the human genome as the database and the mixed reads as the input.\n",
    "\n",
    "unaligned.fastq will contain the sequences that didn't align with the database, and therefore would be the contamination\n",
    "\n",
    "\n",
    "\n",
    "INPUT: [5389676@ip-172-30-0-105 ~]$ bowtie2 -p 4 --very-fast --no-unal -x /data/references/hg19/hg19 \\ -U /data/Lab6_data/mixed_reads1.fastq,/data/Lab6_data/mixed_reads2.fastq -S filtered.sam --un unaligned.fastq\n",
    "\n",
    "OUTPUT: 2570882 reads; of these:\n",
    " \n",
    " 2570882 (100.00%) were unpaired; of these:\n",
    "   \n",
    "   2060197 (80.14%) aligned 0 times\n",
    "   \n",
    "   468483 (18.22%) aligned exactly 1 time\n",
    "   \n",
    "   42202 (1.64%) aligned >1 times\n",
    "\n",
    "19.86% overall alignment rate\n",
    "\n",
    "Seems like 80.14% came from contaminating human DNA"
   ]
  },
  {
   "cell_type": "markdown",
   "metadata": {},
   "source": [
    "Input:\n",
    "[5389676@ip-172-30-0-105 ~]$ bowtie2 -p 4 --very-fast --no-unal -x /data/references/shewanella_oneidensis_mr-1/shewanella_oneidensis_mr-1 \\ -U /data/Lab6_data/mixed_reads1.fastq,/data/Lab6_data/mixed_reads2.fastq -S oneidensis.sam --un unaligned_2.fastq                            \n",
    "\n",
    "Output:\n",
    "2570882 reads; of these:\n",
    "\n",
    "    2570882 (100.00%) were unpaired; of these:\n",
    "    \n",
    "    1244457 (48.41%) aligned 0 times\n",
    "    \n",
    "    1238875 (48.19%) aligned exactly 1 time\n",
    "    \n",
    "    87550 (3.41%) aligned >1 times\n",
    "    \n",
    "    51.59% overall alignment rate"
   ]
  },
  {
   "cell_type": "markdown",
   "metadata": {},
   "source": [
    "unaligned.fastq will contain the sequences that didn't align with the database, and therefore would be the contamination\n",
    "\n",
    "48.41% didn't reference the genome. Yet, when doing very-sensitive, the unalignment rate went down to 48.21%. Overall, pretty impressive that very-fast maintained that level of accuracy with its speed.\n"
   ]
  },
  {
   "cell_type": "code",
   "execution_count": 2,
   "metadata": {},
   "outputs": [
    {
     "name": "stdout",
     "output_type": "stream",
     "text": [
      "[(b'AE014299.2', 1.00000e+00,  1.) (b'AE014299.2', 2.00000e+00,  3.)\n",
      " (b'AE014299.2', 3.00000e+00,  4.) ... (b'AE014300.1', 1.61611e+05, 19.)\n",
      " (b'AE014300.1', 1.61612e+05, 17.) (b'AE014300.1', 1.61613e+05, 11.)]\n"
     ]
    }
   ],
   "source": [
    "import sys\n",
    "import matplotlib.pyplot as plt\n",
    "import numpy as np\n",
    "\n",
    "test = np.loadtxt('depth.tab', dtype={'names': ('first', 'second', 'third'), 'formats': ('S15', 'f8', 'f8')}, delimiter = \"\\t\")\n",
    "\n",
    "print(test)\n"
   ]
  },
  {
   "cell_type": "code",
   "execution_count": 3,
   "metadata": {},
   "outputs": [],
   "source": [
    "labels = [t[0] for t in test]\n",
    "X = [t[1] for t in test]\n",
    "Y = [t[2] for t in test]"
   ]
  },
  {
   "cell_type": "code",
   "execution_count": 8,
   "metadata": {},
   "outputs": [],
   "source": [
    "%matplotlib inline\n"
   ]
  },
  {
   "cell_type": "code",
   "execution_count": 11,
   "metadata": {},
   "outputs": [
    {
     "data": {
      "image/png": "[encoded data removed]",
      "text/plain": [
       "<Figure size 432x288 with 1 Axes>"
      ]
     },
     "metadata": {
      "needs_background": "light"
     },
     "output_type": "display_data"
    }
   ],
   "source": [
    "plt.plot(X,Y, 'ro')\n",
    "plt.show()"
   ]
  },
  {
   "cell_type": "code",
   "execution_count": 27,
   "metadata": {},
   "outputs": [
    {
     "data": {
      "image/png": "[encoded data removed]",
      "text/plain": [
       "<Figure size 432x288 with 1 Axes>"
      ]
     },
     "metadata": {
      "needs_background": "light"
     },
     "output_type": "display_data"
    }
   ],
   "source": [
    "n, bins, patches = plt.hist(x=Y, bins='auto', color='#0504aa')\n",
    "\n"
   ]
  },
  {
   "cell_type": "code",
   "execution_count": 5,
   "metadata": {},
   "outputs": [
    {
     "name": "stdout",
     "output_type": "stream",
     "text": [
      "1.0\n",
      "457.0\n",
      "70.44318087922572\n"
     ]
    }
   ],
   "source": [
    "print(min(Y))\n",
    "print(max(Y))\n",
    "print(sum(Y)/len(Y))"
   ]
  },
  {
   "cell_type": "markdown",
   "metadata": {},
   "source": [
    "^this is the min, max, and mean of the coverage of every position\n"
   ]
  },
  {
   "cell_type": "code",
   "execution_count": 7,
   "metadata": {},
   "outputs": [
    {
     "data": {
      "text/plain": [
       "5131424"
      ]
     },
     "execution_count": 7,
     "metadata": {},
     "output_type": "execute_result"
    }
   ],
   "source": [
    "len(X)"
   ]
  },
  {
   "cell_type": "code",
   "execution_count": null,
   "metadata": {},
   "outputs": [],
   "source": []
  }
 ],
 "metadata": {
  "kernelspec": {
   "display_name": "Python 3",
   "language": "python",
   "name": "python3"
  },
  "language_info": {
   "codemirror_mode": {
    "name": "ipython",
    "version": 3
   },
   "file_extension": ".py",
   "mimetype": "text/x-python",
   "name": "python",
   "nbconvert_exporter": "python",
   "pygments_lexer": "ipython3",
   "version": "3.7.3"
  }
 },
 "nbformat": 4,
 "nbformat_minor": 2
}

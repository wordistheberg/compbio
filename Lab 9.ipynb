{
 "cells": [
  {
   "cell_type": "markdown",
   "metadata": {},
   "source": [
    "spades.py -o <bioe131>\\ -1 </data/Lab8_data/illumina_reads_R1.fastq> \\ -2 </data/Lab8_data/illumina_reads_R2.fastq> \\ --pacbio </data/Lab8_data/pacbio_reads.fastq> \\ -t 1\n",
    "\n",
    "this was the command I used, and there was no error command, it just went to the new line and never seemed like it was running anything. I was able to input other commands immediately after inputting the one above with no problem. There was no error that it couldn't find the files or output the files somewhere, it seemed like everything was working. The problem was just that nothing was happening.\n",
    "\n"
   ]
  },
  {
   "cell_type": "markdown",
   "metadata": {},
   "source": [
    "input: [5389676@ip-172-30-0-105 Lab9_data]$ assembly-stats contigs.fasta"
   ]
  },
  {
   "cell_type": "markdown",
   "metadata": {},
   "source": [
    "sum = 6680581; n = 180; N50 = 234690"
   ]
  },
  {
   "cell_type": "markdown",
   "metadata": {},
   "source": [
    "input: [5389676@ip-172-30-0-105 Lab9_data]$ assembly-stats scaffolds.fasta "
   ]
  },
  {
   "cell_type": "markdown",
   "metadata": {},
   "source": [
    "sum = 6680345; n = 176; N50 = 234690"
   ]
  },
  {
   "cell_type": "markdown",
   "metadata": {},
   "source": [
    "N50 is useful to value an assembly because it is a weighted assembly, and isn't thrown off by the presence of outliers, such as very small contigs or a very large contig. To take the average size of the contigs, one could just remove any contig lower than x bp and it'll raise that average. Doing that wouldn't change the N50 as drastically though, making it a better evaluater of the size of the contigs."
   ]
  },
  {
   "cell_type": "markdown",
   "metadata": {},
   "source": [
    "The genus-level identification of the fasta sequences is Pseudonomas. This conclusion was reached by running the .gff file into fasta using bedtools getfasta, uploading it into RDP's SeqMatch tool, and it telling me its lineage, stopping at genus and Pseudonomas. "
   ]
  },
  {
   "cell_type": "markdown",
   "metadata": {},
   "source": [
    "The Pseudonomas genus has a pretty wide variety of environments that it lives in, such as soil, marshes, coastal areas, and plant/animal tissue. Yet one of the most interesting environment where it thrives just happens to be in your fridge right now. Relatives of my sequence are actually known to be the leading cause of \"spoiled milk.\" That's right, the reason why milk and most dairy products tend to have a shorter shelf life than other perishable products is because of Pseudonomas ability to grow at refrigerating temperatures. Another feature of its enivronment that aids its growth is that it has the ability to break down lipids and produce peptidases. After looking at my annotation from RAST, I see that its genome also has adapted to that, confirming that its environment has impacted it in such a way to allow it to live in dairy products. Of course, different strains and growth conditions have an effect on how quickly your milk is spoiled. Growth conditions are suppressed around 1-4 degrees Celsius, which is the typical fridge temperature. In regards to strain though, the Pseudomonas fluorescens is one of the most effective bacterium for spoiling the food, which also happens to be the closest neighbor to the bacterium that I sequenced. As a result, it shows that the genetic adaptations shown through the annotation are definitive in showing how large of an effect one's environment has on one's genome, especially for species with smaller genomes and faster generations.\n",
    "\n",
    "\n",
    "Works Cited:\n",
    "Meng, et al. “Characterization of Pseudomonas Spp. and Associated Proteolytic Properties in Raw Milk Stored at Low Temperatures.” Frontiers, Frontiers, 20 Oct. 2017, https://www.frontiersin.org/articles/10.3389/fmicb.2017.02158/full."
   ]
  }
 ],
 "metadata": {
  "kernelspec": {
   "display_name": "Python 3",
   "language": "python",
   "name": "python3"
  },
  "language_info": {
   "codemirror_mode": {
    "name": "ipython",
    "version": 3
   },
   "file_extension": ".py",
   "mimetype": "text/x-python",
   "name": "python",
   "nbconvert_exporter": "python",
   "pygments_lexer": "ipython3",
   "version": "3.7.3"
  }
 },
 "nbformat": 4,
 "nbformat_minor": 2
}

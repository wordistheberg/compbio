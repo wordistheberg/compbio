{
 "cells": [
  {
   "cell_type": "markdown",
   "metadata": {},
   "source": [
    "YES-1: GGGCGACCCUGAUGAGCUUGAGUUUAGCUCGUCACUGUCCAGGUUCAAUCAGGCGAAACGGUGAAAGCCGUAGGUUGCCC\n",
    "\n",
    "NOT-1: GGCAGGUACAUACAGCUGAUGAGUCCCAAAUAGGACGAAACGCGACACACACCACUAAACCGUGCAGUGUUUUGCGUCCUGUAUUCCACUGC\n",
    "\n",
    "AND-1: GGGCGACCCUGAUGAGCUUGGUUUAGUAUUUACAGCUCCAUACAUGAGGUGUUAUCCCUAUGCAAGUUCGAUCAGGCGAAACGGUGAAAGCCGUAGGUUGCCCAGAGACAAU\n",
    "\n",
    "OR-1: GGGCGACCCUGAUGAGCUUGGUUGAGUAUUUACAGCUCCAUACAUGAGGUGUUCUCCCUACGCAAGUUCGAUCAGGCGAAACGGUGAAAGCCGUAGGUUGCCC"
   ]
  },
  {
   "cell_type": "code",
   "execution_count": 6,
   "metadata": {},
   "outputs": [],
   "source": [
    "import sqlite3\n",
    "conn = sqlite3.connect('my.db')\n",
    "c = conn.cursor()\n",
    "\n",
    "c.execute(\"\"\"CREATE TABLE riboswitches (name TEXT, start_1 INT, end_1 INT, start_2 INT, end_2 INT, start_red1 INT, end_red1 INT, start_red2 INT, end_red2 INT); \"\"\")\n",
    "\n",
    "conn.commit()"
   ]
  },
  {
   "cell_type": "code",
   "execution_count": 11,
   "metadata": {},
   "outputs": [],
   "source": [
    "c.execute(\"\"\"INSERT INTO riboswitches (name, start_1, end_1, start_2, end_2, start_red1, end_red1, start_red2, end_red2) \n",
    "            VALUES ('YES-1', '26', '47', '-', '-', '16', '21', '49', '54')  ; \"\"\")\n",
    "conn.commit()"
   ]
  },
  {
   "cell_type": "code",
   "execution_count": 12,
   "metadata": {},
   "outputs": [],
   "source": [
    "c.execute(\"\"\"INSERT INTO riboswitches (name, start_1, end_1, start_2, end_2, start_red1, end_red1, start_red2, end_red2) \n",
    "            VALUES ('NOT-1', '44', '66', '-', '-', '40', '43', '74', '77'); \"\"\")\n",
    "\n",
    "c.execute(\"\"\"INSERT INTO riboswitches (name, start_1, end_1, start_2, end_2, start_red1, end_red1, start_red2, end_red2) \n",
    "            VALUES ('AND-1', '30', '45', '49', '64', '16', '23', '70', '77')  ; \"\"\")\n",
    "\n",
    "c.execute(\"\"\"INSERT INTO riboswitches (name, start_1, end_1, start_2, end_2, start_red1, end_red1, start_red2, end_red2) \n",
    "            VALUES ('OR-1', '27', '46', '47', '66', '16', '26', '67', '77')  ; \"\"\")\n",
    "\n",
    "conn.commit()"
   ]
  },
  {
   "cell_type": "markdown",
   "metadata": {},
   "source": [
    "YES-1: ((((((((.(((((((((.......))))))))).((.((.(((...))).))))..(((((....))))).))))))))"
   ]
  },
  {
   "cell_type": "markdown",
   "metadata": {},
   "source": [
    "NOT-1: .((((....((((((.......((((......))))...((((((.((((..(((......)))..)))).)))))).))))))....))))\n",
    "\n",
    "AND-1: ((((((((((((((((((((...(((.....(((.(((.......))).))).....)))..))))))).))))).....  (((((....))))).)))))))).........\n",
    "\n",
    "OR-1: ((((((((((((((((((((((.(((.....(((.(((.......))).))).)))...)).))))))).))))).....(((((....))))).))))))))"
   ]
  },
  {
   "cell_type": "markdown",
   "metadata": {},
   "source": [
    "The RNAfold and the paper are the samde as far as I can tell."
   ]
  },
  {
   "cell_type": "code",
   "execution_count": null,
   "metadata": {},
   "outputs": [],
   "source": []
  }
 ],
 "metadata": {
  "kernelspec": {
   "display_name": "Python 3",
   "language": "python",
   "name": "python3"
  },
  "language_info": {
   "codemirror_mode": {
    "name": "ipython",
    "version": 3
   },
   "file_extension": ".py",
   "mimetype": "text/x-python",
   "name": "python",
   "nbconvert_exporter": "python",
   "pygments_lexer": "ipython3",
   "version": "3.7.1"
  }
 },
 "nbformat": 4,
 "nbformat_minor": 2
}
